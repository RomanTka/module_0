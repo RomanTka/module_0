{
 "cells": [
  {
   "cell_type": "code",
   "execution_count": 825,
   "metadata": {},
   "outputs": [],
   "source": [
    "import pandas as pd\n",
    "import numpy as np\n",
    "import matplotlib.pyplot as plt\n",
    "import seaborn as sns\n",
    "from itertools import combinations\n",
    "from scipy.stats import ttest_ind\n",
    "\n",
    "pd.set_option('display.max_rows', 50)\n",
    "pd.set_option('display.max_columns', 50)\n",
    "stud_math_v0 = pd.read_csv('stud_math.csv')"
   ]
  },
  {
   "cell_type": "markdown",
   "metadata": {},
   "source": [
    "### Предобработка"
   ]
  },
  {
   "cell_type": "code",
   "execution_count": 826,
   "metadata": {},
   "outputs": [],
   "source": [
    "# функция для нахождения и вывода информации о кол-во пустых строк в столбце\n",
    "def nan_cell_print(col):\n",
    "    n = len(stud_math[col])-(stud_math[col].value_counts()).sum()\n",
    "    if n > 0:\n",
    "        return print('Столбец {0} содержит {1} незаполненных значений с типом nan.'.format(col, n))\n",
    "    else:\n",
    "        return print('Столбец {0} полностью заполнен.'.format(col))\n",
    "\n",
    "\n",
    "# функция для определения вывода информаиии о уникальных значениях\n",
    "def info_uniq_nan(col):\n",
    "    arr = stud_math[col].unique()\n",
    "    uniq_list = []\n",
    "    for i in arr:\n",
    "        i = str(i)\n",
    "        if str(i) != 'nan':\n",
    "            uniq_list.append(i)\n",
    "    uniq_list.sort()\n",
    "    return print('В колонке {2} количество уникальных значений {0} - {1}.'.format(len(uniq_list), ((',').join(uniq_list)), col))\n",
    "\n",
    "\n",
    "# функция для построение гистограммы распределения и определения признака для числовых переменных\n",
    "def hist(col, x):\n",
    "    IQR = stud_math[col].quantile(0.75) - stud_math[col].quantile(0.25)\n",
    "    Q1 = stud_math[col].quantile(0.25)\n",
    "    Q3 = stud_math[col].quantile(0.75)\n",
    "    print('25-й перцентиль: {},'.format(Q1), '75-й перцентиль: {},'.format(Q3),\n",
    "          \"IQR: {}, \".format(IQR), \"Границы выбросов: [{f}, {l}].\".format(f=Q1 - 1.5*IQR, l=Q3 + 1.5*IQR))\n",
    "    return stud_math[col].loc[stud_math[col].between(Q1 - 1.5*IQR, Q3 + 1.5*IQR)].hist(bins=x, label='IQR'), plt.legend()\n",
    "\n",
    "\n",
    "# функция для построение построения боксплотов номинативных нечисловых переменных\n",
    "def get_boxplot(col):\n",
    "    fig, ax = plt.subplots(figsize=(14, 4))\n",
    "    sns.boxplot(x=col, y='score',\n",
    "                data=stud_math.loc[stud_math.loc[:, col].isin(\n",
    "                    stud_math.loc[:, col].value_counts().index[:10])],\n",
    "                ax=ax)\n",
    "    plt.xticks(rotation=45)\n",
    "    ax.set_title('Boxplot for ' + col)\n",
    "    plt.show()\n",
    "\n",
    "\n",
    "# тест Стьюдента\n",
    "def get_stat_dif(column):\n",
    "    cols = stud_math.loc[:, column].value_counts().index[:10]\n",
    "    combinations_all = list(combinations(cols, 2))\n",
    "    for comb in combinations_all:\n",
    "        if ttest_ind(stud_math.loc[stud_math.loc[:, column] == comb[0], 'score'],\n",
    "                     stud_math.loc[stud_math.loc[:, column] == comb[1], 'score']).pvalue \\\n",
    "                <= 0.05/len(combinations_all):  # Учли поправку Бонферони\n",
    "            print('Найдены статистически значимые различия для колонки', column)\n",
    "            break"
   ]
  },
  {
   "cell_type": "markdown",
   "metadata": {},
   "source": [
    "### 1. Выполним первичную обработку данных"
   ]
  },
  {
   "cell_type": "code",
   "execution_count": 827,
   "metadata": {},
   "outputs": [
    {
     "data": {
      "text/html": [
       "<div>\n",
       "<style scoped>\n",
       "    .dataframe tbody tr th:only-of-type {\n",
       "        vertical-align: middle;\n",
       "    }\n",
       "\n",
       "    .dataframe tbody tr th {\n",
       "        vertical-align: top;\n",
       "    }\n",
       "\n",
       "    .dataframe thead th {\n",
       "        text-align: right;\n",
       "    }\n",
       "</style>\n",
       "<table border=\"1\" class=\"dataframe\">\n",
       "  <thead>\n",
       "    <tr style=\"text-align: right;\">\n",
       "      <th></th>\n",
       "      <th>school</th>\n",
       "      <th>sex</th>\n",
       "      <th>age</th>\n",
       "      <th>address</th>\n",
       "      <th>famsize</th>\n",
       "      <th>Pstatus</th>\n",
       "      <th>Medu</th>\n",
       "      <th>Fedu</th>\n",
       "      <th>Mjob</th>\n",
       "      <th>Fjob</th>\n",
       "      <th>reason</th>\n",
       "      <th>guardian</th>\n",
       "      <th>traveltime</th>\n",
       "      <th>studytime</th>\n",
       "      <th>failures</th>\n",
       "      <th>schoolsup</th>\n",
       "      <th>famsup</th>\n",
       "      <th>paid</th>\n",
       "      <th>activities</th>\n",
       "      <th>nursery</th>\n",
       "      <th>studytime, granular</th>\n",
       "      <th>higher</th>\n",
       "      <th>internet</th>\n",
       "      <th>romantic</th>\n",
       "      <th>famrel</th>\n",
       "      <th>freetime</th>\n",
       "      <th>goout</th>\n",
       "      <th>health</th>\n",
       "      <th>absences</th>\n",
       "      <th>score</th>\n",
       "    </tr>\n",
       "  </thead>\n",
       "  <tbody>\n",
       "    <tr>\n",
       "      <th>0</th>\n",
       "      <td>GP</td>\n",
       "      <td>F</td>\n",
       "      <td>18</td>\n",
       "      <td>U</td>\n",
       "      <td>NaN</td>\n",
       "      <td>A</td>\n",
       "      <td>4.0</td>\n",
       "      <td>4.0</td>\n",
       "      <td>at_home</td>\n",
       "      <td>teacher</td>\n",
       "      <td>course</td>\n",
       "      <td>mother</td>\n",
       "      <td>2.0</td>\n",
       "      <td>2.0</td>\n",
       "      <td>0.0</td>\n",
       "      <td>yes</td>\n",
       "      <td>no</td>\n",
       "      <td>no</td>\n",
       "      <td>no</td>\n",
       "      <td>yes</td>\n",
       "      <td>-6.0</td>\n",
       "      <td>yes</td>\n",
       "      <td>NaN</td>\n",
       "      <td>no</td>\n",
       "      <td>4.0</td>\n",
       "      <td>3.0</td>\n",
       "      <td>4.0</td>\n",
       "      <td>3.0</td>\n",
       "      <td>6.0</td>\n",
       "      <td>30.0</td>\n",
       "    </tr>\n",
       "    <tr>\n",
       "      <th>1</th>\n",
       "      <td>GP</td>\n",
       "      <td>F</td>\n",
       "      <td>17</td>\n",
       "      <td>U</td>\n",
       "      <td>GT3</td>\n",
       "      <td>NaN</td>\n",
       "      <td>1.0</td>\n",
       "      <td>1.0</td>\n",
       "      <td>at_home</td>\n",
       "      <td>other</td>\n",
       "      <td>course</td>\n",
       "      <td>father</td>\n",
       "      <td>1.0</td>\n",
       "      <td>2.0</td>\n",
       "      <td>0.0</td>\n",
       "      <td>no</td>\n",
       "      <td>yes</td>\n",
       "      <td>no</td>\n",
       "      <td>no</td>\n",
       "      <td>no</td>\n",
       "      <td>-6.0</td>\n",
       "      <td>yes</td>\n",
       "      <td>yes</td>\n",
       "      <td>no</td>\n",
       "      <td>5.0</td>\n",
       "      <td>3.0</td>\n",
       "      <td>3.0</td>\n",
       "      <td>3.0</td>\n",
       "      <td>4.0</td>\n",
       "      <td>30.0</td>\n",
       "    </tr>\n",
       "    <tr>\n",
       "      <th>2</th>\n",
       "      <td>GP</td>\n",
       "      <td>F</td>\n",
       "      <td>15</td>\n",
       "      <td>U</td>\n",
       "      <td>LE3</td>\n",
       "      <td>T</td>\n",
       "      <td>1.0</td>\n",
       "      <td>1.0</td>\n",
       "      <td>at_home</td>\n",
       "      <td>other</td>\n",
       "      <td>other</td>\n",
       "      <td>mother</td>\n",
       "      <td>1.0</td>\n",
       "      <td>2.0</td>\n",
       "      <td>3.0</td>\n",
       "      <td>yes</td>\n",
       "      <td>no</td>\n",
       "      <td>NaN</td>\n",
       "      <td>no</td>\n",
       "      <td>yes</td>\n",
       "      <td>-6.0</td>\n",
       "      <td>yes</td>\n",
       "      <td>yes</td>\n",
       "      <td>NaN</td>\n",
       "      <td>4.0</td>\n",
       "      <td>3.0</td>\n",
       "      <td>2.0</td>\n",
       "      <td>3.0</td>\n",
       "      <td>10.0</td>\n",
       "      <td>50.0</td>\n",
       "    </tr>\n",
       "    <tr>\n",
       "      <th>3</th>\n",
       "      <td>GP</td>\n",
       "      <td>F</td>\n",
       "      <td>15</td>\n",
       "      <td>U</td>\n",
       "      <td>GT3</td>\n",
       "      <td>T</td>\n",
       "      <td>4.0</td>\n",
       "      <td>2.0</td>\n",
       "      <td>health</td>\n",
       "      <td>NaN</td>\n",
       "      <td>home</td>\n",
       "      <td>mother</td>\n",
       "      <td>1.0</td>\n",
       "      <td>3.0</td>\n",
       "      <td>0.0</td>\n",
       "      <td>no</td>\n",
       "      <td>yes</td>\n",
       "      <td>yes</td>\n",
       "      <td>yes</td>\n",
       "      <td>yes</td>\n",
       "      <td>-9.0</td>\n",
       "      <td>yes</td>\n",
       "      <td>yes</td>\n",
       "      <td>yes</td>\n",
       "      <td>3.0</td>\n",
       "      <td>2.0</td>\n",
       "      <td>2.0</td>\n",
       "      <td>5.0</td>\n",
       "      <td>2.0</td>\n",
       "      <td>75.0</td>\n",
       "    </tr>\n",
       "    <tr>\n",
       "      <th>4</th>\n",
       "      <td>GP</td>\n",
       "      <td>F</td>\n",
       "      <td>16</td>\n",
       "      <td>U</td>\n",
       "      <td>GT3</td>\n",
       "      <td>T</td>\n",
       "      <td>3.0</td>\n",
       "      <td>3.0</td>\n",
       "      <td>other</td>\n",
       "      <td>other</td>\n",
       "      <td>home</td>\n",
       "      <td>father</td>\n",
       "      <td>1.0</td>\n",
       "      <td>2.0</td>\n",
       "      <td>0.0</td>\n",
       "      <td>no</td>\n",
       "      <td>yes</td>\n",
       "      <td>yes</td>\n",
       "      <td>no</td>\n",
       "      <td>yes</td>\n",
       "      <td>-6.0</td>\n",
       "      <td>yes</td>\n",
       "      <td>no</td>\n",
       "      <td>no</td>\n",
       "      <td>4.0</td>\n",
       "      <td>3.0</td>\n",
       "      <td>2.0</td>\n",
       "      <td>5.0</td>\n",
       "      <td>4.0</td>\n",
       "      <td>50.0</td>\n",
       "    </tr>\n",
       "  </tbody>\n",
       "</table>\n",
       "</div>"
      ],
      "text/plain": [
       "  school sex  age address famsize Pstatus  Medu  Fedu     Mjob     Fjob  \\\n",
       "0     GP   F   18       U     NaN       A   4.0   4.0  at_home  teacher   \n",
       "1     GP   F   17       U     GT3     NaN   1.0   1.0  at_home    other   \n",
       "2     GP   F   15       U     LE3       T   1.0   1.0  at_home    other   \n",
       "3     GP   F   15       U     GT3       T   4.0   2.0   health      NaN   \n",
       "4     GP   F   16       U     GT3       T   3.0   3.0    other    other   \n",
       "\n",
       "   reason guardian  traveltime  studytime  failures schoolsup famsup paid  \\\n",
       "0  course   mother         2.0        2.0       0.0       yes     no   no   \n",
       "1  course   father         1.0        2.0       0.0        no    yes   no   \n",
       "2   other   mother         1.0        2.0       3.0       yes     no  NaN   \n",
       "3    home   mother         1.0        3.0       0.0        no    yes  yes   \n",
       "4    home   father         1.0        2.0       0.0        no    yes  yes   \n",
       "\n",
       "  activities nursery  studytime, granular higher internet romantic  famrel  \\\n",
       "0         no     yes                 -6.0    yes      NaN       no     4.0   \n",
       "1         no      no                 -6.0    yes      yes       no     5.0   \n",
       "2         no     yes                 -6.0    yes      yes      NaN     4.0   \n",
       "3        yes     yes                 -9.0    yes      yes      yes     3.0   \n",
       "4         no     yes                 -6.0    yes       no       no     4.0   \n",
       "\n",
       "   freetime  goout  health  absences  score  \n",
       "0       3.0    4.0     3.0       6.0   30.0  \n",
       "1       3.0    3.0     3.0       4.0   30.0  \n",
       "2       3.0    2.0     3.0      10.0   50.0  \n",
       "3       2.0    2.0     5.0       2.0   75.0  \n",
       "4       3.0    2.0     5.0       4.0   50.0  "
      ]
     },
     "metadata": {},
     "output_type": "display_data"
    },
    {
     "name": "stdout",
     "output_type": "stream",
     "text": [
      "<class 'pandas.core.frame.DataFrame'>\n",
      "RangeIndex: 395 entries, 0 to 394\n",
      "Data columns (total 30 columns):\n",
      " #   Column               Non-Null Count  Dtype  \n",
      "---  ------               --------------  -----  \n",
      " 0   school               395 non-null    object \n",
      " 1   sex                  395 non-null    object \n",
      " 2   age                  395 non-null    int64  \n",
      " 3   address              378 non-null    object \n",
      " 4   famsize              368 non-null    object \n",
      " 5   Pstatus              350 non-null    object \n",
      " 6   Medu                 392 non-null    float64\n",
      " 7   Fedu                 371 non-null    float64\n",
      " 8   Mjob                 376 non-null    object \n",
      " 9   Fjob                 359 non-null    object \n",
      " 10  reason               378 non-null    object \n",
      " 11  guardian             364 non-null    object \n",
      " 12  traveltime           367 non-null    float64\n",
      " 13  studytime            388 non-null    float64\n",
      " 14  failures             373 non-null    float64\n",
      " 15  schoolsup            386 non-null    object \n",
      " 16  famsup               356 non-null    object \n",
      " 17  paid                 355 non-null    object \n",
      " 18  activities           381 non-null    object \n",
      " 19  nursery              379 non-null    object \n",
      " 20  studytime, granular  388 non-null    float64\n",
      " 21  higher               375 non-null    object \n",
      " 22  internet             361 non-null    object \n",
      " 23  romantic             364 non-null    object \n",
      " 24  famrel               368 non-null    float64\n",
      " 25  freetime             384 non-null    float64\n",
      " 26  goout                387 non-null    float64\n",
      " 27  health               380 non-null    float64\n",
      " 28  absences             383 non-null    float64\n",
      " 29  score                389 non-null    float64\n",
      "dtypes: float64(12), int64(1), object(17)\n",
      "memory usage: 92.7+ KB\n"
     ]
    }
   ],
   "source": [
    "display(stud_math_v0.head(5))  # получим инф-ию по имеющимся данным\n",
    "stud_math_v0.info()"
   ]
  },
  {
   "cell_type": "markdown",
   "metadata": {},
   "source": [
    "В столбце score есть незаполенные значения, т.к. целевой параметр для анализа - это оценка учеников, то удалим строки содержащие NaN в столбце score. Количество строк сократиться на 6 штук.  "
   ]
  },
  {
   "cell_type": "code",
   "execution_count": 828,
   "metadata": {},
   "outputs": [
    {
     "data": {
      "text/html": [
       "<div>\n",
       "<style scoped>\n",
       "    .dataframe tbody tr th:only-of-type {\n",
       "        vertical-align: middle;\n",
       "    }\n",
       "\n",
       "    .dataframe tbody tr th {\n",
       "        vertical-align: top;\n",
       "    }\n",
       "\n",
       "    .dataframe thead th {\n",
       "        text-align: right;\n",
       "    }\n",
       "</style>\n",
       "<table border=\"1\" class=\"dataframe\">\n",
       "  <thead>\n",
       "    <tr style=\"text-align: right;\">\n",
       "      <th></th>\n",
       "      <th>school</th>\n",
       "      <th>sex</th>\n",
       "      <th>age</th>\n",
       "      <th>address</th>\n",
       "      <th>famsize</th>\n",
       "      <th>Pstatus</th>\n",
       "      <th>Medu</th>\n",
       "      <th>Fedu</th>\n",
       "      <th>Mjob</th>\n",
       "      <th>Fjob</th>\n",
       "      <th>reason</th>\n",
       "      <th>guardian</th>\n",
       "      <th>traveltime</th>\n",
       "      <th>studytime</th>\n",
       "      <th>failures</th>\n",
       "      <th>schoolsup</th>\n",
       "      <th>famsup</th>\n",
       "      <th>paid</th>\n",
       "      <th>activities</th>\n",
       "      <th>nursery</th>\n",
       "      <th>studytime, granular</th>\n",
       "      <th>higher</th>\n",
       "      <th>internet</th>\n",
       "      <th>romantic</th>\n",
       "      <th>famrel</th>\n",
       "      <th>freetime</th>\n",
       "      <th>goout</th>\n",
       "      <th>health</th>\n",
       "      <th>absences</th>\n",
       "      <th>score</th>\n",
       "    </tr>\n",
       "  </thead>\n",
       "  <tbody>\n",
       "    <tr>\n",
       "      <th>0</th>\n",
       "      <td>GP</td>\n",
       "      <td>F</td>\n",
       "      <td>18</td>\n",
       "      <td>U</td>\n",
       "      <td>NaN</td>\n",
       "      <td>A</td>\n",
       "      <td>4.0</td>\n",
       "      <td>4.0</td>\n",
       "      <td>at_home</td>\n",
       "      <td>teacher</td>\n",
       "      <td>course</td>\n",
       "      <td>mother</td>\n",
       "      <td>2.0</td>\n",
       "      <td>2.0</td>\n",
       "      <td>0.0</td>\n",
       "      <td>yes</td>\n",
       "      <td>no</td>\n",
       "      <td>no</td>\n",
       "      <td>no</td>\n",
       "      <td>yes</td>\n",
       "      <td>-6.0</td>\n",
       "      <td>yes</td>\n",
       "      <td>NaN</td>\n",
       "      <td>no</td>\n",
       "      <td>4.0</td>\n",
       "      <td>3.0</td>\n",
       "      <td>4.0</td>\n",
       "      <td>3.0</td>\n",
       "      <td>6.0</td>\n",
       "      <td>30.0</td>\n",
       "    </tr>\n",
       "    <tr>\n",
       "      <th>1</th>\n",
       "      <td>GP</td>\n",
       "      <td>F</td>\n",
       "      <td>17</td>\n",
       "      <td>U</td>\n",
       "      <td>GT3</td>\n",
       "      <td>NaN</td>\n",
       "      <td>1.0</td>\n",
       "      <td>1.0</td>\n",
       "      <td>at_home</td>\n",
       "      <td>other</td>\n",
       "      <td>course</td>\n",
       "      <td>father</td>\n",
       "      <td>1.0</td>\n",
       "      <td>2.0</td>\n",
       "      <td>0.0</td>\n",
       "      <td>no</td>\n",
       "      <td>yes</td>\n",
       "      <td>no</td>\n",
       "      <td>no</td>\n",
       "      <td>no</td>\n",
       "      <td>-6.0</td>\n",
       "      <td>yes</td>\n",
       "      <td>yes</td>\n",
       "      <td>no</td>\n",
       "      <td>5.0</td>\n",
       "      <td>3.0</td>\n",
       "      <td>3.0</td>\n",
       "      <td>3.0</td>\n",
       "      <td>4.0</td>\n",
       "      <td>30.0</td>\n",
       "    </tr>\n",
       "    <tr>\n",
       "      <th>2</th>\n",
       "      <td>GP</td>\n",
       "      <td>F</td>\n",
       "      <td>15</td>\n",
       "      <td>U</td>\n",
       "      <td>LE3</td>\n",
       "      <td>T</td>\n",
       "      <td>1.0</td>\n",
       "      <td>1.0</td>\n",
       "      <td>at_home</td>\n",
       "      <td>other</td>\n",
       "      <td>other</td>\n",
       "      <td>mother</td>\n",
       "      <td>1.0</td>\n",
       "      <td>2.0</td>\n",
       "      <td>3.0</td>\n",
       "      <td>yes</td>\n",
       "      <td>no</td>\n",
       "      <td>NaN</td>\n",
       "      <td>no</td>\n",
       "      <td>yes</td>\n",
       "      <td>-6.0</td>\n",
       "      <td>yes</td>\n",
       "      <td>yes</td>\n",
       "      <td>NaN</td>\n",
       "      <td>4.0</td>\n",
       "      <td>3.0</td>\n",
       "      <td>2.0</td>\n",
       "      <td>3.0</td>\n",
       "      <td>10.0</td>\n",
       "      <td>50.0</td>\n",
       "    </tr>\n",
       "    <tr>\n",
       "      <th>3</th>\n",
       "      <td>GP</td>\n",
       "      <td>F</td>\n",
       "      <td>15</td>\n",
       "      <td>U</td>\n",
       "      <td>GT3</td>\n",
       "      <td>T</td>\n",
       "      <td>4.0</td>\n",
       "      <td>2.0</td>\n",
       "      <td>health</td>\n",
       "      <td>NaN</td>\n",
       "      <td>home</td>\n",
       "      <td>mother</td>\n",
       "      <td>1.0</td>\n",
       "      <td>3.0</td>\n",
       "      <td>0.0</td>\n",
       "      <td>no</td>\n",
       "      <td>yes</td>\n",
       "      <td>yes</td>\n",
       "      <td>yes</td>\n",
       "      <td>yes</td>\n",
       "      <td>-9.0</td>\n",
       "      <td>yes</td>\n",
       "      <td>yes</td>\n",
       "      <td>yes</td>\n",
       "      <td>3.0</td>\n",
       "      <td>2.0</td>\n",
       "      <td>2.0</td>\n",
       "      <td>5.0</td>\n",
       "      <td>2.0</td>\n",
       "      <td>75.0</td>\n",
       "    </tr>\n",
       "    <tr>\n",
       "      <th>4</th>\n",
       "      <td>GP</td>\n",
       "      <td>F</td>\n",
       "      <td>16</td>\n",
       "      <td>U</td>\n",
       "      <td>GT3</td>\n",
       "      <td>T</td>\n",
       "      <td>3.0</td>\n",
       "      <td>3.0</td>\n",
       "      <td>other</td>\n",
       "      <td>other</td>\n",
       "      <td>home</td>\n",
       "      <td>father</td>\n",
       "      <td>1.0</td>\n",
       "      <td>2.0</td>\n",
       "      <td>0.0</td>\n",
       "      <td>no</td>\n",
       "      <td>yes</td>\n",
       "      <td>yes</td>\n",
       "      <td>no</td>\n",
       "      <td>yes</td>\n",
       "      <td>-6.0</td>\n",
       "      <td>yes</td>\n",
       "      <td>no</td>\n",
       "      <td>no</td>\n",
       "      <td>4.0</td>\n",
       "      <td>3.0</td>\n",
       "      <td>2.0</td>\n",
       "      <td>5.0</td>\n",
       "      <td>4.0</td>\n",
       "      <td>50.0</td>\n",
       "    </tr>\n",
       "  </tbody>\n",
       "</table>\n",
       "</div>"
      ],
      "text/plain": [
       "  school sex  age address famsize Pstatus  Medu  Fedu     Mjob     Fjob  \\\n",
       "0     GP   F   18       U     NaN       A   4.0   4.0  at_home  teacher   \n",
       "1     GP   F   17       U     GT3     NaN   1.0   1.0  at_home    other   \n",
       "2     GP   F   15       U     LE3       T   1.0   1.0  at_home    other   \n",
       "3     GP   F   15       U     GT3       T   4.0   2.0   health      NaN   \n",
       "4     GP   F   16       U     GT3       T   3.0   3.0    other    other   \n",
       "\n",
       "   reason guardian  traveltime  studytime  failures schoolsup famsup paid  \\\n",
       "0  course   mother         2.0        2.0       0.0       yes     no   no   \n",
       "1  course   father         1.0        2.0       0.0        no    yes   no   \n",
       "2   other   mother         1.0        2.0       3.0       yes     no  NaN   \n",
       "3    home   mother         1.0        3.0       0.0        no    yes  yes   \n",
       "4    home   father         1.0        2.0       0.0        no    yes  yes   \n",
       "\n",
       "  activities nursery  studytime, granular higher internet romantic  famrel  \\\n",
       "0         no     yes                 -6.0    yes      NaN       no     4.0   \n",
       "1         no      no                 -6.0    yes      yes       no     5.0   \n",
       "2         no     yes                 -6.0    yes      yes      NaN     4.0   \n",
       "3        yes     yes                 -9.0    yes      yes      yes     3.0   \n",
       "4         no     yes                 -6.0    yes       no       no     4.0   \n",
       "\n",
       "   freetime  goout  health  absences  score  \n",
       "0       3.0    4.0     3.0       6.0   30.0  \n",
       "1       3.0    3.0     3.0       4.0   30.0  \n",
       "2       3.0    2.0     3.0      10.0   50.0  \n",
       "3       2.0    2.0     5.0       2.0   75.0  \n",
       "4       3.0    2.0     5.0       4.0   50.0  "
      ]
     },
     "metadata": {},
     "output_type": "display_data"
    },
    {
     "name": "stdout",
     "output_type": "stream",
     "text": [
      "<class 'pandas.core.frame.DataFrame'>\n",
      "RangeIndex: 389 entries, 0 to 388\n",
      "Data columns (total 30 columns):\n",
      " #   Column               Non-Null Count  Dtype  \n",
      "---  ------               --------------  -----  \n",
      " 0   school               389 non-null    object \n",
      " 1   sex                  389 non-null    object \n",
      " 2   age                  389 non-null    int64  \n",
      " 3   address              374 non-null    object \n",
      " 4   famsize              362 non-null    object \n",
      " 5   Pstatus              344 non-null    object \n",
      " 6   Medu                 386 non-null    float64\n",
      " 7   Fedu                 365 non-null    float64\n",
      " 8   Mjob                 370 non-null    object \n",
      " 9   Fjob                 353 non-null    object \n",
      " 10  reason               372 non-null    object \n",
      " 11  guardian             358 non-null    object \n",
      " 12  traveltime           361 non-null    float64\n",
      " 13  studytime            382 non-null    float64\n",
      " 14  failures             367 non-null    float64\n",
      " 15  schoolsup            380 non-null    object \n",
      " 16  famsup               351 non-null    object \n",
      " 17  paid                 350 non-null    object \n",
      " 18  activities           375 non-null    object \n",
      " 19  nursery              374 non-null    object \n",
      " 20  studytime, granular  382 non-null    float64\n",
      " 21  higher               369 non-null    object \n",
      " 22  internet             355 non-null    object \n",
      " 23  romantic             358 non-null    object \n",
      " 24  famrel               362 non-null    float64\n",
      " 25  freetime             380 non-null    float64\n",
      " 26  goout                382 non-null    float64\n",
      " 27  health               374 non-null    float64\n",
      " 28  absences             378 non-null    float64\n",
      " 29  score                389 non-null    float64\n",
      "dtypes: float64(12), int64(1), object(17)\n",
      "memory usage: 91.3+ KB\n"
     ]
    }
   ],
   "source": [
    "stud_math = stud_math_v0.dropna(subset=['score'])\n",
    "stud_math = stud_math.reset_index()\n",
    "stud_math.drop(['index'], inplace=True, axis=1)\n",
    "display(stud_math.head(5))\n",
    "stud_math.info()"
   ]
  },
  {
   "cell_type": "code",
   "execution_count": 829,
   "metadata": {},
   "outputs": [
    {
     "name": "stdout",
     "output_type": "stream",
     "text": [
      "Столбец school полностью заполнен.\n",
      "Столбец sex полностью заполнен.\n",
      "Столбец age полностью заполнен.\n",
      "Столбец address содержит 15 незаполненных значений с типом nan.\n",
      "Столбец famsize содержит 27 незаполненных значений с типом nan.\n",
      "Столбец Pstatus содержит 45 незаполненных значений с типом nan.\n",
      "Столбец Medu содержит 3 незаполненных значений с типом nan.\n",
      "Столбец Fedu содержит 24 незаполненных значений с типом nan.\n",
      "Столбец Mjob содержит 19 незаполненных значений с типом nan.\n",
      "Столбец Fjob содержит 36 незаполненных значений с типом nan.\n",
      "Столбец reason содержит 17 незаполненных значений с типом nan.\n",
      "Столбец guardian содержит 31 незаполненных значений с типом nan.\n",
      "Столбец traveltime содержит 28 незаполненных значений с типом nan.\n",
      "Столбец studytime содержит 7 незаполненных значений с типом nan.\n",
      "Столбец failures содержит 22 незаполненных значений с типом nan.\n",
      "Столбец schoolsup содержит 9 незаполненных значений с типом nan.\n",
      "Столбец famsup содержит 38 незаполненных значений с типом nan.\n",
      "Столбец paid содержит 39 незаполненных значений с типом nan.\n",
      "Столбец activities содержит 14 незаполненных значений с типом nan.\n",
      "Столбец nursery содержит 15 незаполненных значений с типом nan.\n",
      "Столбец studytime, granular содержит 7 незаполненных значений с типом nan.\n",
      "Столбец higher содержит 20 незаполненных значений с типом nan.\n",
      "Столбец internet содержит 34 незаполненных значений с типом nan.\n",
      "Столбец romantic содержит 31 незаполненных значений с типом nan.\n",
      "Столбец famrel содержит 27 незаполненных значений с типом nan.\n",
      "Столбец freetime содержит 9 незаполненных значений с типом nan.\n",
      "Столбец goout содержит 7 незаполненных значений с типом nan.\n",
      "Столбец health содержит 15 незаполненных значений с типом nan.\n",
      "Столбец absences содержит 11 незаполненных значений с типом nan.\n",
      "Столбец score полностью заполнен.\n"
     ]
    }
   ],
   "source": [
    "for i in stud_math.columns:\n",
    "    nan_cell_print(i)"
   ]
  },
  {
   "cell_type": "markdown",
   "metadata": {},
   "source": [
    "Итак, имеем 30 колонок из которых заполнены полностью только 4, включая целевой показатель. "
   ]
  },
  {
   "cell_type": "markdown",
   "metadata": {},
   "source": [
    "### 2. Начнем анализ данных с числовых переменных. "
   ]
  },
  {
   "cell_type": "markdown",
   "metadata": {},
   "source": [
    "### 2.1 age - количественная переменная "
   ]
  },
  {
   "cell_type": "code",
   "execution_count": 830,
   "metadata": {
    "scrolled": false
   },
   "outputs": [
    {
     "name": "stdout",
     "output_type": "stream",
     "text": [
      "Столбец age полностью заполнен.\n",
      "25-й перцентиль: 16.0, 75-й перцентиль: 18.0, IQR: 2.0,  Границы выбросов: [13.0, 21.0].\n"
     ]
    },
    {
     "data": {
      "text/plain": [
       "(<AxesSubplot:>, <matplotlib.legend.Legend at 0x21c631c60d0>)"
      ]
     },
     "execution_count": 830,
     "metadata": {},
     "output_type": "execute_result"
    },
    {
     "data": {
      "image/png": "[encoded data removed]",
      "text/plain": [
       "<Figure size 432x288 with 1 Axes>"
      ]
     },
     "metadata": {
      "needs_background": "light"
     },
     "output_type": "display_data"
    }
   ],
   "source": [
    "nan_cell_print('age')\n",
    "stud_math.age.hist(bins=8, label='Все значения')\n",
    "hist('age', 7)"
   ]
  },
  {
   "cell_type": "markdown",
   "metadata": {},
   "source": [
    "Выбросов данных нет, хоть ученики страше 21 и выходят за правую границу выбросов. Данные полностью находятся в исследуемом  диапозоне от 15 до 22 лет."
   ]
  },
  {
   "cell_type": "code",
   "execution_count": 831,
   "metadata": {},
   "outputs": [
    {
     "data": {
      "text/plain": [
       "0.0    290\n",
       "1.0     48\n",
       "2.0     15\n",
       "3.0     14\n",
       "Name: failures, dtype: int64"
      ]
     },
     "execution_count": 831,
     "metadata": {},
     "output_type": "execute_result"
    }
   ],
   "source": [
    "stud_math.failures.value_counts()"
   ]
  },
  {
   "cell_type": "markdown",
   "metadata": {},
   "source": [
    "### 2.2 Medu - номинативная числовая переменная "
   ]
  },
  {
   "cell_type": "code",
   "execution_count": 832,
   "metadata": {},
   "outputs": [
    {
     "name": "stdout",
     "output_type": "stream",
     "text": [
      "Столбец Medu содержит 3 незаполненных значений с типом nan.\n",
      "25-й перцентиль: 2.0, 75-й перцентиль: 4.0, IQR: 2.0,  Границы выбросов: [-1.0, 7.0].\n",
      "В колонке Medu количество уникальных значений 5 - 0.0,1.0,2.0,3.0,4.0.\n"
     ]
    },
    {
     "data": {
      "image/png": "[encoded data removed]",
      "text/plain": [
       "<Figure size 432x288 with 1 Axes>"
      ]
     },
     "metadata": {
      "needs_background": "light"
     },
     "output_type": "display_data"
    }
   ],
   "source": [
    "nan_cell_print('Medu')\n",
    "stud_math.Medu.hist(bins=5, label='Все значения')\n",
    "hist('Medu', 5)\n",
    "info_uniq_nan('Medu')"
   ]
  },
  {
   "cell_type": "markdown",
   "metadata": {},
   "source": [
    "Выбросов данных нет, данные полностью находятся в рассматриваемом диапозоне от 0 до 4 с шагом 1."
   ]
  },
  {
   "cell_type": "markdown",
   "metadata": {},
   "source": [
    "### 2.3 Fedu - номинативная числовая переменная "
   ]
  },
  {
   "cell_type": "code",
   "execution_count": 833,
   "metadata": {},
   "outputs": [
    {
     "name": "stdout",
     "output_type": "stream",
     "text": [
      "Столбец Fedu содержит 24 незаполненных значений с типом nan.\n",
      "25-й перцентиль: 2.0, 75-й перцентиль: 3.0, IQR: 1.0,  Границы выбросов: [0.5, 4.5].\n",
      "В колонке Fedu количество уникальных значений 6 - 0.0,1.0,2.0,3.0,4.0,40.0.\n"
     ]
    },
    {
     "data": {
      "image/png": "[encoded data removed]",
      "text/plain": [
       "<Figure size 432x288 with 1 Axes>"
      ]
     },
     "metadata": {
      "needs_background": "light"
     },
     "output_type": "display_data"
    }
   ],
   "source": [
    "nan_cell_print('Fedu')\n",
    "stud_math.Fedu.hist(bins=40, label='Все значения')\n",
    "hist('Fedu', 3)\n",
    "info_uniq_nan('Fedu')"
   ]
  },
  {
   "cell_type": "markdown",
   "metadata": {},
   "source": [
    "Видим явный выброс, ему соответствует уникальное значение 40. Предполагая, что в данных опечатка - вместо 40 должна была бать категория 4. Два решения, либо избавиться от значения либо заменить его на 4. Выбираю второе. "
   ]
  },
  {
   "cell_type": "code",
   "execution_count": 834,
   "metadata": {},
   "outputs": [
    {
     "name": "stderr",
     "output_type": "stream",
     "text": [
      "C:\\Users\\tkre\\Anaconda3\\lib\\site-packages\\pandas\\core\\indexing.py:670: SettingWithCopyWarning: \n",
      "A value is trying to be set on a copy of a slice from a DataFrame\n",
      "\n",
      "See the caveats in the documentation: https://pandas.pydata.org/pandas-docs/stable/user_guide/indexing.html#returning-a-view-versus-a-copy\n",
      "  iloc._setitem_with_indexer(indexer, value)\n"
     ]
    },
    {
     "name": "stdout",
     "output_type": "stream",
     "text": [
      "Столбец Fedu содержит 24 незаполненных значений с типом nan.\n",
      "В колонке Fedu количество уникальных значений 5 - 0.0,1.0,2.0,3.0,4.0.\n"
     ]
    },
    {
     "data": {
      "image/png": "[encoded data removed]",
      "text/plain": [
       "<Figure size 432x288 with 1 Axes>"
      ]
     },
     "metadata": {
      "needs_background": "light"
     },
     "output_type": "display_data"
    }
   ],
   "source": [
    "stud_math.Fedu.loc[stud_math['Fedu'] == 40] = 4.0\n",
    "nan_cell_print('Fedu')\n",
    "stud_math.Fedu.hist(bins=4, label='Все значения')\n",
    "info_uniq_nan('Fedu')"
   ]
  },
  {
   "cell_type": "markdown",
   "metadata": {},
   "source": [
    "Выбросов данных нет, данные полностью находятся в рассматриваемом диапозоне от 0 до 4 с шагом 1."
   ]
  },
  {
   "cell_type": "markdown",
   "metadata": {},
   "source": [
    "### 2.4 traveltime - номинативная числовая переменная "
   ]
  },
  {
   "cell_type": "code",
   "execution_count": 835,
   "metadata": {
    "scrolled": true
   },
   "outputs": [
    {
     "name": "stdout",
     "output_type": "stream",
     "text": [
      "Столбец traveltime содержит 28 незаполненных значений с типом nan.\n",
      "25-й перцентиль: 1.0, 75-й перцентиль: 2.0, IQR: 1.0,  Границы выбросов: [-0.5, 3.5].\n",
      "В колонке traveltime количество уникальных значений 4 - 1.0,2.0,3.0,4.0.\n"
     ]
    },
    {
     "data": {
      "image/png": "[encoded data removed]",
      "text/plain": [
       "<Figure size 432x288 with 1 Axes>"
      ]
     },
     "metadata": {
      "needs_background": "light"
     },
     "output_type": "display_data"
    }
   ],
   "source": [
    "nan_cell_print('traveltime')\n",
    "stud_math.traveltime.hist(bins=4, label='Все значения')\n",
    "hist('traveltime', 3)\n",
    "info_uniq_nan('traveltime')"
   ]
  },
  {
   "cell_type": "markdown",
   "metadata": {},
   "source": [
    "Выбросов данных нет, данные полностью находятся в рассматриваемом диапозоне от 1 до 4 с шагом 1."
   ]
  },
  {
   "cell_type": "markdown",
   "metadata": {},
   "source": [
    "### 2.5 studytime - номинативная числовая переменная "
   ]
  },
  {
   "cell_type": "code",
   "execution_count": 836,
   "metadata": {},
   "outputs": [
    {
     "name": "stdout",
     "output_type": "stream",
     "text": [
      "Столбец studytime содержит 7 незаполненных значений с типом nan.\n",
      "25-й перцентиль: 1.0, 75-й перцентиль: 2.0, IQR: 1.0,  Границы выбросов: [-0.5, 3.5].\n",
      "В колонке studytime количество уникальных значений 4 - 1.0,2.0,3.0,4.0.\n"
     ]
    },
    {
     "data": {
      "image/png": "[encoded data removed]",
      "text/plain": [
       "<Figure size 432x288 with 1 Axes>"
      ]
     },
     "metadata": {
      "needs_background": "light"
     },
     "output_type": "display_data"
    }
   ],
   "source": [
    "nan_cell_print('studytime')\n",
    "stud_math.studytime.hist(bins=4, label='Все значения')\n",
    "hist('studytime', 3)\n",
    "info_uniq_nan('studytime')"
   ]
  },
  {
   "cell_type": "markdown",
   "metadata": {},
   "source": [
    "Выбросов данных нет, данные полностью находятся в рассматриваемом диапозоне от 1 до 4 с шагом 1."
   ]
  },
  {
   "cell_type": "markdown",
   "metadata": {},
   "source": [
    "### 2.6 studytime, granular - номинативная числовая переменная "
   ]
  },
  {
   "cell_type": "code",
   "execution_count": 837,
   "metadata": {},
   "outputs": [
    {
     "name": "stdout",
     "output_type": "stream",
     "text": [
      "Столбец studytime, granular содержит 7 незаполненных значений с типом nan.\n",
      "25-й перцентиль: -6.0, 75-й перцентиль: -3.0, IQR: 3.0,  Границы выбросов: [-10.5, 1.5].\n",
      "В колонке studytime, granular количество уникальных значений 4 - -12.0,-3.0,-6.0,-9.0.\n"
     ]
    },
    {
     "data": {
      "image/png": "[encoded data removed]",
      "text/plain": [
       "<Figure size 432x288 with 1 Axes>"
      ]
     },
     "metadata": {
      "needs_background": "light"
     },
     "output_type": "display_data"
    }
   ],
   "source": [
    "nan_cell_print('studytime, granular')\n",
    "stud_math['studytime, granular'].hist(bins=4, label='Все значения')\n",
    "hist('studytime, granular', 3)\n",
    "info_uniq_nan('studytime, granular')"
   ]
  },
  {
   "cell_type": "markdown",
   "metadata": {},
   "source": [
    "Гистограмма \"studytime, granular\" \"Все значение\" по форме напоминает гистограмму \"studytime\", только симметрично отображенную."
   ]
  },
  {
   "cell_type": "code",
   "execution_count": 838,
   "metadata": {},
   "outputs": [
    {
     "data": {
      "text/plain": [
       "<AxesSubplot:xlabel='studytime, granular', ylabel='studytime'>"
      ]
     },
     "execution_count": 838,
     "metadata": {},
     "output_type": "execute_result"
    },
    {
     "data": {
      "image/png": "[encoded data removed]",
      "text/plain": [
       "<Figure size 432x288 with 1 Axes>"
      ]
     },
     "metadata": {
      "needs_background": "light"
     },
     "output_type": "display_data"
    }
   ],
   "source": [
    "stud_math.plot(x='studytime, granular',\n",
    "               y='studytime',\n",
    "               kind='scatter',\n",
    "               grid=True,)"
   ]
  },
  {
   "cell_type": "markdown",
   "metadata": {},
   "source": [
    "Видим, что значения \"studytime, granular\" получены путем умножения значений \"studytime\" на -3. Отсюда делаем вывод, что столбец \"studytime, granular\" прямопропорционален столбцу \"studytime\", а следовательно дополнительной информативной нагрузки за собой не несет. Поэтому удалеем его. "
   ]
  },
  {
   "cell_type": "code",
   "execution_count": 839,
   "metadata": {},
   "outputs": [],
   "source": [
    "stud_math = stud_math.drop('studytime, granular', 1)"
   ]
  },
  {
   "cell_type": "markdown",
   "metadata": {},
   "source": [
    "### 2.7 failures  - номинативная числовая переменная "
   ]
  },
  {
   "cell_type": "code",
   "execution_count": 840,
   "metadata": {},
   "outputs": [
    {
     "name": "stdout",
     "output_type": "stream",
     "text": [
      "Столбец failures содержит 22 незаполненных значений с типом nan.\n",
      "25-й перцентиль: 0.0, 75-й перцентиль: 0.0, IQR: 0.0,  Границы выбросов: [0.0, 0.0].\n",
      "В колонке failures количество уникальных значений 4 - 0.0,1.0,2.0,3.0.\n"
     ]
    },
    {
     "data": {
      "image/png": "[encoded data removed]",
      "text/plain": [
       "<Figure size 432x288 with 1 Axes>"
      ]
     },
     "metadata": {
      "needs_background": "light"
     },
     "output_type": "display_data"
    }
   ],
   "source": [
    "nan_cell_print('failures')\n",
    "stud_math.failures.hist(bins=4, label='Все значения')\n",
    "hist('failures', 4)\n",
    "info_uniq_nan('failures')"
   ]
  },
  {
   "cell_type": "markdown",
   "metadata": {},
   "source": [
    "Выбросов нет т.к. значение 1,2,3,0. Не совсем понимаю смысл сбора данных в данную колонку таким образом. Т.к. данный столбец посути номинативно - количественный, ведь мы знаем точное число неудач у некоторых учеников (1,2 или 3). Но при этом других учеников с \"0\" в ячейке просто относим в другую группу, которая опять же не информатинва, потому что одновременно содержит 2 группы учеников: одни с n=0, другие с n > 3 неудач. Проще было либо собирать кол-во неудач у каждого, либо делить на группы с определенным интервалом. "
   ]
  },
  {
   "cell_type": "markdown",
   "metadata": {},
   "source": [
    "### 2.8 famrel - номинативная числовая переменная "
   ]
  },
  {
   "cell_type": "code",
   "execution_count": 841,
   "metadata": {},
   "outputs": [
    {
     "name": "stdout",
     "output_type": "stream",
     "text": [
      "Столбец famrel содержит 27 незаполненных значений с типом nan.\n",
      "25-й перцентиль: 4.0, 75-й перцентиль: 5.0, IQR: 1.0,  Границы выбросов: [2.5, 6.5].\n",
      "В колонке famrel количество уникальных значений 6 - -1.0,1.0,2.0,3.0,4.0,5.0.\n"
     ]
    },
    {
     "data": {
      "image/png": "[encoded data removed]",
      "text/plain": [
       "<Figure size 432x288 with 1 Axes>"
      ]
     },
     "metadata": {
      "needs_background": "light"
     },
     "output_type": "display_data"
    }
   ],
   "source": [
    "nan_cell_print('famrel')\n",
    "stud_math.famrel.hist(bins=4, label='Все значения')\n",
    "hist('famrel', 3)\n",
    "info_uniq_nan('famrel')"
   ]
  },
  {
   "cell_type": "markdown",
   "metadata": {},
   "source": [
    "Есть явный выбросы: -1.0 и 0, т.к. данные должны содержать значения от 1 до 5 c шагом 1. Полагаю, что те, кто поставил 0 и -1 хотели таким образом количественно оценить проблемы в семье. Но тем менее они попадают в номинативную категорию 1 - очень плохо. Поэтому заменим значения с -1  и  0 на 1. "
   ]
  },
  {
   "cell_type": "code",
   "execution_count": 842,
   "metadata": {},
   "outputs": [
    {
     "name": "stdout",
     "output_type": "stream",
     "text": [
      "Столбец famrel содержит 27 незаполненных значений с типом nan.\n",
      "В колонке famrel количество уникальных значений 5 - 1.0,2.0,3.0,4.0,5.0.\n"
     ]
    },
    {
     "name": "stderr",
     "output_type": "stream",
     "text": [
      "C:\\Users\\tkre\\Anaconda3\\lib\\site-packages\\pandas\\core\\indexing.py:670: SettingWithCopyWarning: \n",
      "A value is trying to be set on a copy of a slice from a DataFrame\n",
      "\n",
      "See the caveats in the documentation: https://pandas.pydata.org/pandas-docs/stable/user_guide/indexing.html#returning-a-view-versus-a-copy\n",
      "  iloc._setitem_with_indexer(indexer, value)\n"
     ]
    },
    {
     "data": {
      "image/png": "[encoded data removed]",
      "text/plain": [
       "<Figure size 432x288 with 1 Axes>"
      ]
     },
     "metadata": {
      "needs_background": "light"
     },
     "output_type": "display_data"
    }
   ],
   "source": [
    "stud_math.famrel.loc[stud_math['famrel'] < 1] = 1\n",
    "nan_cell_print('famrel')\n",
    "stud_math.famrel.hist(bins=5, label='Все значения')\n",
    "info_uniq_nan('famrel')"
   ]
  },
  {
   "cell_type": "markdown",
   "metadata": {},
   "source": [
    "### 2.9 freetime - номинативная числовая переменная "
   ]
  },
  {
   "cell_type": "code",
   "execution_count": 843,
   "metadata": {},
   "outputs": [
    {
     "name": "stdout",
     "output_type": "stream",
     "text": [
      "Столбец freetime содержит 9 незаполненных значений с типом nan.\n",
      "25-й перцентиль: 3.0, 75-й перцентиль: 4.0, IQR: 1.0,  Границы выбросов: [1.5, 5.5].\n",
      "В колонке freetime количество уникальных значений 5 - 1.0,2.0,3.0,4.0,5.0.\n"
     ]
    },
    {
     "data": {
      "image/png": "[encoded data removed]",
      "text/plain": [
       "<Figure size 432x288 with 1 Axes>"
      ]
     },
     "metadata": {
      "needs_background": "light"
     },
     "output_type": "display_data"
    }
   ],
   "source": [
    "nan_cell_print('freetime')\n",
    "stud_math.freetime.hist(bins=5, label='Все значения')\n",
    "hist('freetime', 4)\n",
    "info_uniq_nan('freetime')"
   ]
  },
  {
   "cell_type": "markdown",
   "metadata": {},
   "source": [
    "Выбросов данных нет, данные полностью находятся в рассматриваемом диапозоне от 1 до 5 с шагом 1."
   ]
  },
  {
   "cell_type": "markdown",
   "metadata": {},
   "source": [
    "### 2.10 goout - номинативная числовая переменная "
   ]
  },
  {
   "cell_type": "code",
   "execution_count": 844,
   "metadata": {},
   "outputs": [
    {
     "name": "stdout",
     "output_type": "stream",
     "text": [
      "Столбец goout содержит 7 незаполненных значений с типом nan.\n",
      "25-й перцентиль: 2.0, 75-й перцентиль: 4.0, IQR: 2.0,  Границы выбросов: [-1.0, 7.0].\n",
      "В колонке goout количество уникальных значений 5 - 1.0,2.0,3.0,4.0,5.0.\n"
     ]
    },
    {
     "data": {
      "image/png": "[encoded data removed]",
      "text/plain": [
       "<Figure size 432x288 with 1 Axes>"
      ]
     },
     "metadata": {
      "needs_background": "light"
     },
     "output_type": "display_data"
    }
   ],
   "source": [
    "nan_cell_print('goout')\n",
    "stud_math.goout.hist(bins=5, label='Все значения')\n",
    "hist('goout', 5)\n",
    "info_uniq_nan('goout')"
   ]
  },
  {
   "cell_type": "markdown",
   "metadata": {},
   "source": [
    "Выбросов данных нет, данные полностью находятся в рассматриваемом диапозоне от 1 до 5 с шагом 1."
   ]
  },
  {
   "cell_type": "markdown",
   "metadata": {},
   "source": [
    "### 2.11 health - номинативная числовая переменная "
   ]
  },
  {
   "cell_type": "code",
   "execution_count": 845,
   "metadata": {},
   "outputs": [
    {
     "name": "stdout",
     "output_type": "stream",
     "text": [
      "Столбец health содержит 15 незаполненных значений с типом nan.\n",
      "25-й перцентиль: 3.0, 75-й перцентиль: 5.0, IQR: 2.0,  Границы выбросов: [0.0, 8.0].\n",
      "В колонке health количество уникальных значений 5 - 1.0,2.0,3.0,4.0,5.0.\n"
     ]
    },
    {
     "data": {
      "image/png": "[encoded data removed]",
      "text/plain": [
       "<Figure size 432x288 with 1 Axes>"
      ]
     },
     "metadata": {
      "needs_background": "light"
     },
     "output_type": "display_data"
    }
   ],
   "source": [
    "nan_cell_print('health')\n",
    "stud_math.health.hist(bins=5, label='Все значения')\n",
    "hist('health', 5)\n",
    "info_uniq_nan('health')"
   ]
  },
  {
   "cell_type": "markdown",
   "metadata": {},
   "source": [
    "Выбросов данных нет, данные полностью находятся в рассматриваемом диапозоне от 1 до 5 с шагом 1."
   ]
  },
  {
   "cell_type": "markdown",
   "metadata": {},
   "source": [
    "### 2.12 absences - количественная  переменная "
   ]
  },
  {
   "cell_type": "code",
   "execution_count": 846,
   "metadata": {},
   "outputs": [
    {
     "name": "stdout",
     "output_type": "stream",
     "text": [
      "Столбец absences содержит 11 незаполненных значений с типом nan.\n",
      "25-й перцентиль: 0.0, 75-й перцентиль: 8.0, IQR: 8.0,  Границы выбросов: [-12.0, 20.0].\n"
     ]
    },
    {
     "data": {
      "text/plain": [
       "(<AxesSubplot:>, <matplotlib.legend.Legend at 0x21c64d057f0>)"
      ]
     },
     "execution_count": 846,
     "metadata": {},
     "output_type": "execute_result"
    },
    {
     "data": {
      "image/png": "[encoded data removed]",
      "text/plain": [
       "<Figure size 432x288 with 1 Axes>"
      ]
     },
     "metadata": {
      "needs_background": "light"
     },
     "output_type": "display_data"
    }
   ],
   "source": [
    "nan_cell_print('absences')\n",
    "stud_math.absences.hist(bins=20, label='Все значения')\n",
    "hist('absences', 3)"
   ]
  },
  {
   "cell_type": "markdown",
   "metadata": {},
   "source": [
    "Присутствуют явные выбросы, один из учеников отсутствовал более календарного года, другой более учебного. Отфильтруем данные."
   ]
  },
  {
   "cell_type": "code",
   "execution_count": 847,
   "metadata": {},
   "outputs": [
    {
     "name": "stdout",
     "output_type": "stream",
     "text": [
      "Столбец absences полностью заполнен.\n"
     ]
    },
    {
     "data": {
      "text/plain": [
       "<AxesSubplot:>"
      ]
     },
     "execution_count": 847,
     "metadata": {},
     "output_type": "execute_result"
    },
    {
     "data": {
      "image/png": "[encoded data removed]",
      "text/plain": [
       "<Figure size 432x288 with 1 Axes>"
      ]
     },
     "metadata": {
      "needs_background": "light"
     },
     "output_type": "display_data"
    }
   ],
   "source": [
    "stud_math = stud_math.loc[stud_math['absences'] <= 20]\n",
    "nan_cell_print('absences')\n",
    "stud_math.absences.hist(bins=10, label='Все значения')"
   ]
  },
  {
   "cell_type": "markdown",
   "metadata": {},
   "source": [
    "### 2.13 score - количественная переменная (целевая переменная)"
   ]
  },
  {
   "cell_type": "code",
   "execution_count": 848,
   "metadata": {},
   "outputs": [
    {
     "name": "stdout",
     "output_type": "stream",
     "text": [
      "Столбец score полностью заполнен.\n",
      "25-й перцентиль: 40.0, 75-й перцентиль: 70.0, IQR: 30.0,  Границы выбросов: [-5.0, 115.0].\n"
     ]
    },
    {
     "data": {
      "text/plain": [
       "(<AxesSubplot:>, <matplotlib.legend.Legend at 0x21c64c4b8b0>)"
      ]
     },
     "execution_count": 848,
     "metadata": {},
     "output_type": "execute_result"
    },
    {
     "data": {
      "image/png": "[encoded data removed]",
      "text/plain": [
       "<Figure size 432x288 with 1 Axes>"
      ]
     },
     "metadata": {
      "needs_background": "light"
     },
     "output_type": "display_data"
    }
   ],
   "source": [
    "nan_cell_print('score')\n",
    "stud_math.score.hist(bins=7, label='Все значения')\n",
    "hist('score', 7)"
   ]
  },
  {
   "cell_type": "markdown",
   "metadata": {},
   "source": [
    "### 3. Корреляционный анализ"
   ]
  },
  {
   "cell_type": "markdown",
   "metadata": {},
   "source": [
    "Для количественных переменных"
   ]
  },
  {
   "cell_type": "code",
   "execution_count": 849,
   "metadata": {
    "scrolled": true
   },
   "outputs": [
    {
     "data": {
      "text/html": [
       "<div>\n",
       "<style scoped>\n",
       "    .dataframe tbody tr th:only-of-type {\n",
       "        vertical-align: middle;\n",
       "    }\n",
       "\n",
       "    .dataframe tbody tr th {\n",
       "        vertical-align: top;\n",
       "    }\n",
       "\n",
       "    .dataframe thead th {\n",
       "        text-align: right;\n",
       "    }\n",
       "</style>\n",
       "<table border=\"1\" class=\"dataframe\">\n",
       "  <thead>\n",
       "    <tr style=\"text-align: right;\">\n",
       "      <th></th>\n",
       "      <th>age</th>\n",
       "      <th>absences</th>\n",
       "      <th>score</th>\n",
       "    </tr>\n",
       "  </thead>\n",
       "  <tbody>\n",
       "    <tr>\n",
       "      <th>age</th>\n",
       "      <td>1.000000</td>\n",
       "      <td>0.155469</td>\n",
       "      <td>-0.159306</td>\n",
       "    </tr>\n",
       "    <tr>\n",
       "      <th>absences</th>\n",
       "      <td>0.155469</td>\n",
       "      <td>1.000000</td>\n",
       "      <td>0.081274</td>\n",
       "    </tr>\n",
       "    <tr>\n",
       "      <th>score</th>\n",
       "      <td>-0.159306</td>\n",
       "      <td>0.081274</td>\n",
       "      <td>1.000000</td>\n",
       "    </tr>\n",
       "  </tbody>\n",
       "</table>\n",
       "</div>"
      ],
      "text/plain": [
       "               age  absences     score\n",
       "age       1.000000  0.155469 -0.159306\n",
       "absences  0.155469  1.000000  0.081274\n",
       "score    -0.159306  0.081274  1.000000"
      ]
     },
     "execution_count": 849,
     "metadata": {},
     "output_type": "execute_result"
    }
   ],
   "source": [
    "stud_math[['age', 'absences', 'score']].corr()"
   ]
  },
  {
   "cell_type": "markdown",
   "metadata": {},
   "source": [
    "Для числовых переменных"
   ]
  },
  {
   "cell_type": "code",
   "execution_count": 850,
   "metadata": {},
   "outputs": [
    {
     "data": {
      "text/html": [
       "<div>\n",
       "<style scoped>\n",
       "    .dataframe tbody tr th:only-of-type {\n",
       "        vertical-align: middle;\n",
       "    }\n",
       "\n",
       "    .dataframe tbody tr th {\n",
       "        vertical-align: top;\n",
       "    }\n",
       "\n",
       "    .dataframe thead th {\n",
       "        text-align: right;\n",
       "    }\n",
       "</style>\n",
       "<table border=\"1\" class=\"dataframe\">\n",
       "  <thead>\n",
       "    <tr style=\"text-align: right;\">\n",
       "      <th></th>\n",
       "      <th>age</th>\n",
       "      <th>Medu</th>\n",
       "      <th>Fedu</th>\n",
       "      <th>traveltime</th>\n",
       "      <th>studytime</th>\n",
       "      <th>failures</th>\n",
       "      <th>famrel</th>\n",
       "      <th>freetime</th>\n",
       "      <th>goout</th>\n",
       "      <th>health</th>\n",
       "      <th>absences</th>\n",
       "      <th>score</th>\n",
       "    </tr>\n",
       "  </thead>\n",
       "  <tbody>\n",
       "    <tr>\n",
       "      <th>age</th>\n",
       "      <td>1.000000</td>\n",
       "      <td>-0.164627</td>\n",
       "      <td>-0.170310</td>\n",
       "      <td>0.072970</td>\n",
       "      <td>0.000417</td>\n",
       "      <td>0.179170</td>\n",
       "      <td>0.053881</td>\n",
       "      <td>0.043196</td>\n",
       "      <td>0.127582</td>\n",
       "      <td>-0.064051</td>\n",
       "      <td>0.155469</td>\n",
       "      <td>-0.159306</td>\n",
       "    </tr>\n",
       "    <tr>\n",
       "      <th>Medu</th>\n",
       "      <td>-0.164627</td>\n",
       "      <td>1.000000</td>\n",
       "      <td>0.625902</td>\n",
       "      <td>-0.189973</td>\n",
       "      <td>0.087904</td>\n",
       "      <td>-0.240567</td>\n",
       "      <td>-0.012270</td>\n",
       "      <td>0.041438</td>\n",
       "      <td>0.058623</td>\n",
       "      <td>-0.055584</td>\n",
       "      <td>0.066439</td>\n",
       "      <td>0.210257</td>\n",
       "    </tr>\n",
       "    <tr>\n",
       "      <th>Fedu</th>\n",
       "      <td>-0.170310</td>\n",
       "      <td>0.625902</td>\n",
       "      <td>1.000000</td>\n",
       "      <td>-0.132867</td>\n",
       "      <td>0.009432</td>\n",
       "      <td>-0.284939</td>\n",
       "      <td>-0.020295</td>\n",
       "      <td>-0.012527</td>\n",
       "      <td>0.040273</td>\n",
       "      <td>0.019340</td>\n",
       "      <td>-0.024235</td>\n",
       "      <td>0.113379</td>\n",
       "    </tr>\n",
       "    <tr>\n",
       "      <th>traveltime</th>\n",
       "      <td>0.072970</td>\n",
       "      <td>-0.189973</td>\n",
       "      <td>-0.132867</td>\n",
       "      <td>1.000000</td>\n",
       "      <td>-0.097291</td>\n",
       "      <td>0.064499</td>\n",
       "      <td>-0.036739</td>\n",
       "      <td>-0.012274</td>\n",
       "      <td>0.022589</td>\n",
       "      <td>0.001935</td>\n",
       "      <td>-0.050613</td>\n",
       "      <td>-0.074045</td>\n",
       "    </tr>\n",
       "    <tr>\n",
       "      <th>studytime</th>\n",
       "      <td>0.000417</td>\n",
       "      <td>0.087904</td>\n",
       "      <td>0.009432</td>\n",
       "      <td>-0.097291</td>\n",
       "      <td>1.000000</td>\n",
       "      <td>-0.176952</td>\n",
       "      <td>0.030359</td>\n",
       "      <td>-0.139698</td>\n",
       "      <td>-0.036747</td>\n",
       "      <td>-0.089648</td>\n",
       "      <td>-0.075454</td>\n",
       "      <td>0.113113</td>\n",
       "    </tr>\n",
       "    <tr>\n",
       "      <th>failures</th>\n",
       "      <td>0.179170</td>\n",
       "      <td>-0.240567</td>\n",
       "      <td>-0.284939</td>\n",
       "      <td>0.064499</td>\n",
       "      <td>-0.176952</td>\n",
       "      <td>1.000000</td>\n",
       "      <td>-0.002008</td>\n",
       "      <td>0.088810</td>\n",
       "      <td>0.080343</td>\n",
       "      <td>0.099425</td>\n",
       "      <td>0.076537</td>\n",
       "      <td>-0.329542</td>\n",
       "    </tr>\n",
       "    <tr>\n",
       "      <th>famrel</th>\n",
       "      <td>0.053881</td>\n",
       "      <td>-0.012270</td>\n",
       "      <td>-0.020295</td>\n",
       "      <td>-0.036739</td>\n",
       "      <td>0.030359</td>\n",
       "      <td>-0.002008</td>\n",
       "      <td>1.000000</td>\n",
       "      <td>0.174062</td>\n",
       "      <td>0.087324</td>\n",
       "      <td>0.083251</td>\n",
       "      <td>-0.092902</td>\n",
       "      <td>0.061516</td>\n",
       "    </tr>\n",
       "    <tr>\n",
       "      <th>freetime</th>\n",
       "      <td>0.043196</td>\n",
       "      <td>0.041438</td>\n",
       "      <td>-0.012527</td>\n",
       "      <td>-0.012274</td>\n",
       "      <td>-0.139698</td>\n",
       "      <td>0.088810</td>\n",
       "      <td>0.174062</td>\n",
       "      <td>1.000000</td>\n",
       "      <td>0.286959</td>\n",
       "      <td>0.040573</td>\n",
       "      <td>0.096281</td>\n",
       "      <td>0.034952</td>\n",
       "    </tr>\n",
       "    <tr>\n",
       "      <th>goout</th>\n",
       "      <td>0.127582</td>\n",
       "      <td>0.058623</td>\n",
       "      <td>0.040273</td>\n",
       "      <td>0.022589</td>\n",
       "      <td>-0.036747</td>\n",
       "      <td>0.080343</td>\n",
       "      <td>0.087324</td>\n",
       "      <td>0.286959</td>\n",
       "      <td>1.000000</td>\n",
       "      <td>0.005389</td>\n",
       "      <td>0.113048</td>\n",
       "      <td>-0.122246</td>\n",
       "    </tr>\n",
       "    <tr>\n",
       "      <th>health</th>\n",
       "      <td>-0.064051</td>\n",
       "      <td>-0.055584</td>\n",
       "      <td>0.019340</td>\n",
       "      <td>0.001935</td>\n",
       "      <td>-0.089648</td>\n",
       "      <td>0.099425</td>\n",
       "      <td>0.083251</td>\n",
       "      <td>0.040573</td>\n",
       "      <td>0.005389</td>\n",
       "      <td>1.000000</td>\n",
       "      <td>-0.013156</td>\n",
       "      <td>-0.057202</td>\n",
       "    </tr>\n",
       "    <tr>\n",
       "      <th>absences</th>\n",
       "      <td>0.155469</td>\n",
       "      <td>0.066439</td>\n",
       "      <td>-0.024235</td>\n",
       "      <td>-0.050613</td>\n",
       "      <td>-0.075454</td>\n",
       "      <td>0.076537</td>\n",
       "      <td>-0.092902</td>\n",
       "      <td>0.096281</td>\n",
       "      <td>0.113048</td>\n",
       "      <td>-0.013156</td>\n",
       "      <td>1.000000</td>\n",
       "      <td>0.081274</td>\n",
       "    </tr>\n",
       "    <tr>\n",
       "      <th>score</th>\n",
       "      <td>-0.159306</td>\n",
       "      <td>0.210257</td>\n",
       "      <td>0.113379</td>\n",
       "      <td>-0.074045</td>\n",
       "      <td>0.113113</td>\n",
       "      <td>-0.329542</td>\n",
       "      <td>0.061516</td>\n",
       "      <td>0.034952</td>\n",
       "      <td>-0.122246</td>\n",
       "      <td>-0.057202</td>\n",
       "      <td>0.081274</td>\n",
       "      <td>1.000000</td>\n",
       "    </tr>\n",
       "  </tbody>\n",
       "</table>\n",
       "</div>"
      ],
      "text/plain": [
       "                 age      Medu      Fedu  traveltime  studytime  failures  \\\n",
       "age         1.000000 -0.164627 -0.170310    0.072970   0.000417  0.179170   \n",
       "Medu       -0.164627  1.000000  0.625902   -0.189973   0.087904 -0.240567   \n",
       "Fedu       -0.170310  0.625902  1.000000   -0.132867   0.009432 -0.284939   \n",
       "traveltime  0.072970 -0.189973 -0.132867    1.000000  -0.097291  0.064499   \n",
       "studytime   0.000417  0.087904  0.009432   -0.097291   1.000000 -0.176952   \n",
       "failures    0.179170 -0.240567 -0.284939    0.064499  -0.176952  1.000000   \n",
       "famrel      0.053881 -0.012270 -0.020295   -0.036739   0.030359 -0.002008   \n",
       "freetime    0.043196  0.041438 -0.012527   -0.012274  -0.139698  0.088810   \n",
       "goout       0.127582  0.058623  0.040273    0.022589  -0.036747  0.080343   \n",
       "health     -0.064051 -0.055584  0.019340    0.001935  -0.089648  0.099425   \n",
       "absences    0.155469  0.066439 -0.024235   -0.050613  -0.075454  0.076537   \n",
       "score      -0.159306  0.210257  0.113379   -0.074045   0.113113 -0.329542   \n",
       "\n",
       "              famrel  freetime     goout    health  absences     score  \n",
       "age         0.053881  0.043196  0.127582 -0.064051  0.155469 -0.159306  \n",
       "Medu       -0.012270  0.041438  0.058623 -0.055584  0.066439  0.210257  \n",
       "Fedu       -0.020295 -0.012527  0.040273  0.019340 -0.024235  0.113379  \n",
       "traveltime -0.036739 -0.012274  0.022589  0.001935 -0.050613 -0.074045  \n",
       "studytime   0.030359 -0.139698 -0.036747 -0.089648 -0.075454  0.113113  \n",
       "failures   -0.002008  0.088810  0.080343  0.099425  0.076537 -0.329542  \n",
       "famrel      1.000000  0.174062  0.087324  0.083251 -0.092902  0.061516  \n",
       "freetime    0.174062  1.000000  0.286959  0.040573  0.096281  0.034952  \n",
       "goout       0.087324  0.286959  1.000000  0.005389  0.113048 -0.122246  \n",
       "health      0.083251  0.040573  0.005389  1.000000 -0.013156 -0.057202  \n",
       "absences   -0.092902  0.096281  0.113048 -0.013156  1.000000  0.081274  \n",
       "score       0.061516  0.034952 -0.122246 -0.057202  0.081274  1.000000  "
      ]
     },
     "execution_count": 850,
     "metadata": {},
     "output_type": "execute_result"
    }
   ],
   "source": [
    "stud_math.corr()"
   ]
  },
  {
   "cell_type": "markdown",
   "metadata": {},
   "source": [
    "Со score все числовые переменные имеют слабую корреляцию (точнее все имееют очень слабую корреляцию < 0,3, кроме  failures который, имеет просто слабую корреляцию [0.3;0.5]). Так же среди других показателей в матрице можно заметить, что образования родителей средне коррелированы друг с другом. Относительно целевого показателя score можно заметить, что с взрослением оценка уменьшается, так же как и при увеличении время проведенного с друзьями. Увеличение оценки слабо коррелирует с образованием матери, ещё слебее с образованием отца. Внешкольные занятия учебой так же имеют положительную корреляцию с оценкой, примерно равную коррелиции образование отца с оценкой. "
   ]
  },
  {
   "cell_type": "markdown",
   "metadata": {},
   "source": [
    "### 4. Анализ номинативных переменных "
   ]
  },
  {
   "cell_type": "code",
   "execution_count": 851,
   "metadata": {},
   "outputs": [],
   "source": [
    "nom_col = stud_math.select_dtypes(include='object').columns"
   ]
  },
  {
   "cell_type": "code",
   "execution_count": 852,
   "metadata": {},
   "outputs": [
    {
     "name": "stdout",
     "output_type": "stream",
     "text": [
      "Столбец school полностью заполнен.\n",
      "В колонке school количество уникальных значений 2 - GP,MS.\n",
      "Столбец sex полностью заполнен.\n",
      "В колонке sex количество уникальных значений 2 - F,M.\n",
      "Столбец address содержит 14 незаполненных значений с типом nan.\n",
      "В колонке address количество уникальных значений 2 - R,U.\n",
      "Столбец famsize содержит 22 незаполненных значений с типом nan.\n",
      "В колонке famsize количество уникальных значений 2 - GT3,LE3.\n",
      "Столбец Pstatus содержит 38 незаполненных значений с типом nan.\n",
      "В колонке Pstatus количество уникальных значений 2 - A,T.\n",
      "Столбец Mjob содержит 16 незаполненных значений с типом nan.\n",
      "В колонке Mjob количество уникальных значений 5 - at_home,health,other,services,teacher.\n",
      "Столбец Fjob содержит 34 незаполненных значений с типом nan.\n",
      "В колонке Fjob количество уникальных значений 5 - at_home,health,other,services,teacher.\n",
      "Столбец reason содержит 17 незаполненных значений с типом nan.\n",
      "В колонке reason количество уникальных значений 4 - course,home,other,reputation.\n",
      "Столбец guardian содержит 30 незаполненных значений с типом nan.\n",
      "В колонке guardian количество уникальных значений 3 - father,mother,other.\n",
      "Столбец schoolsup содержит 9 незаполненных значений с типом nan.\n",
      "В колонке schoolsup количество уникальных значений 2 - no,yes.\n",
      "Столбец famsup содержит 34 незаполненных значений с типом nan.\n",
      "В колонке famsup количество уникальных значений 2 - no,yes.\n",
      "Столбец paid содержит 37 незаполненных значений с типом nan.\n",
      "В колонке paid количество уникальных значений 2 - no,yes.\n",
      "Столбец activities содержит 14 незаполненных значений с типом nan.\n",
      "В колонке activities количество уникальных значений 2 - no,yes.\n",
      "Столбец nursery содержит 15 незаполненных значений с типом nan.\n",
      "В колонке nursery количество уникальных значений 2 - no,yes.\n",
      "Столбец higher содержит 18 незаполненных значений с типом nan.\n",
      "В колонке higher количество уникальных значений 2 - no,yes.\n",
      "Столбец internet содержит 32 незаполненных значений с типом nan.\n",
      "В колонке internet количество уникальных значений 2 - no,yes.\n",
      "Столбец romantic содержит 30 незаполненных значений с типом nan.\n",
      "В колонке romantic количество уникальных значений 2 - no,yes.\n"
     ]
    }
   ],
   "source": [
    "for col in nom_col:\n",
    "    nan_cell_print(col)\n",
    "    info_uniq_nan(col)"
   ]
  },
  {
   "cell_type": "code",
   "execution_count": 853,
   "metadata": {
    "scrolled": false
   },
   "outputs": [
    {
     "data": {
      "image/png": "[encoded data removed]",
      "text/plain": [
       "<Figure size 1008x288 with 1 Axes>"
      ]
     },
     "metadata": {
      "needs_background": "light"
     },
     "output_type": "display_data"
    },
    {
     "data": {
      "image/png": "[encoded data removed]",
      "text/plain": [
       "<Figure size 1008x288 with 1 Axes>"
      ]
     },
     "metadata": {
      "needs_background": "light"
     },
     "output_type": "display_data"
    },
    {
     "data": {
      "image/png": "[encoded data removed]",
      "text/plain": [
       "<Figure size 1008x288 with 1 Axes>"
      ]
     },
     "metadata": {
      "needs_background": "light"
     },
     "output_type": "display_data"
    },
    {
     "data": {
      "image/png": "[encoded data removed]",
      "text/plain": [
       "<Figure size 1008x288 with 1 Axes>"
      ]
     },
     "metadata": {
      "needs_background": "light"
     },
     "output_type": "display_data"
    },
    {
     "data": {
      "image/png": "[encoded data removed]",
      "text/plain": [
       "<Figure size 1008x288 with 1 Axes>"
      ]
     },
     "metadata": {
      "needs_background": "light"
     },
     "output_type": "display_data"
    },
    {
     "data": {
      "image/png": "[encoded data removed]",
      "text/plain": [
       "<Figure size 1008x288 with 1 Axes>"
      ]
     },
     "metadata": {
      "needs_background": "light"
     },
     "output_type": "display_data"
    },
    {
     "data": {
      "image/png": "[encoded data removed]",
      "text/plain": [
       "<Figure size 1008x288 with 1 Axes>"
      ]
     },
     "metadata": {
      "needs_background": "light"
     },
     "output_type": "display_data"
    },
    {
     "data": {
      "image/png": "[encoded data removed]",
      "text/plain": [
       "<Figure size 1008x288 with 1 Axes>"
      ]
     },
     "metadata": {
      "needs_background": "light"
     },
     "output_type": "display_data"
    },
    {
     "data": {
      "image/png": "[encoded data removed]",
      "text/plain": [
       "<Figure size 1008x288 with 1 Axes>"
      ]
     },
     "metadata": {
      "needs_background": "light"
     },
     "output_type": "display_data"
    },
    {
     "data": {
      "image/png": "[encoded data removed]",
      "text/plain": [
       "<Figure size 1008x288 with 1 Axes>"
      ]
     },
     "metadata": {
      "needs_background": "light"
     },
     "output_type": "display_data"
    },
    {
     "data": {
      "image/png": "[encoded data removed]",
      "text/plain": [
       "<Figure size 1008x288 with 1 Axes>"
      ]
     },
     "metadata": {
      "needs_background": "light"
     },
     "output_type": "display_data"
    },
    {
     "data": {
      "image/png": "[encoded data removed]",
      "text/plain": [
       "<Figure size 1008x288 with 1 Axes>"
      ]
     },
     "metadata": {
      "needs_background": "light"
     },
     "output_type": "display_data"
    },
    {
     "data": {
      "image/png": "[encoded data removed]",
      "text/plain": [
       "<Figure size 1008x288 with 1 Axes>"
      ]
     },
     "metadata": {
      "needs_background": "light"
     },
     "output_type": "display_data"
    },
    {
     "data": {
      "image/png": "[encoded data removed]",
      "text/plain": [
       "<Figure size 1008x288 with 1 Axes>"
      ]
     },
     "metadata": {
      "needs_background": "light"
     },
     "output_type": "display_data"
    },
    {
     "data": {
      "image/png": "[encoded data removed]",
      "text/plain": [
       "<Figure size 1008x288 with 1 Axes>"
      ]
     },
     "metadata": {
      "needs_background": "light"
     },
     "output_type": "display_data"
    },
    {
     "data": {
      "image/png": "[encoded data removed]",
      "text/plain": [
       "<Figure size 1008x288 with 1 Axes>"
      ]
     },
     "metadata": {
      "needs_background": "light"
     },
     "output_type": "display_data"
    },
    {
     "data": {
      "image/png": "[encoded data removed]",
      "text/plain": [
       "<Figure size 1008x288 with 1 Axes>"
      ]
     },
     "metadata": {
      "needs_background": "light"
     },
     "output_type": "display_data"
    }
   ],
   "source": [
    "for col in nom_col:\n",
    "    get_boxplot(col)"
   ]
  },
  {
   "cell_type": "markdown",
   "metadata": {},
   "source": [
    "По графикам кажется, что влияют следующие параметры: sex, address, Mjob, schoolsup, internet, romantic, activities, higher, higher"
   ]
  },
  {
   "cell_type": "markdown",
   "metadata": {},
   "source": [
    "Проверим, есть ли статистическая разница в распределении оценок по номинативным признакам, с помощью теста Стьюдента. Проверим нулевую гипотезу о том, что распределения оценок по различным параметрам неразличимы:"
   ]
  },
  {
   "cell_type": "code",
   "execution_count": 854,
   "metadata": {},
   "outputs": [
    {
     "name": "stdout",
     "output_type": "stream",
     "text": [
      "Найдены статистически значимые различия для колонки sex\n",
      "Найдены статистически значимые различия для колонки address\n",
      "Найдены статистически значимые различия для колонки Mjob\n",
      "Найдены статистически значимые различия для колонки paid\n",
      "Найдены статистически значимые различия для колонки higher\n",
      "Найдены статистически значимые различия для колонки romantic\n"
     ]
    }
   ],
   "source": [
    "for col in nom_col:\n",
    "    get_stat_dif(col)"
   ]
  },
  {
   "cell_type": "markdown",
   "metadata": {},
   "source": [
    "### 4. Вывод"
   ]
  },
  {
   "cell_type": "code",
   "execution_count": 855,
   "metadata": {},
   "outputs": [
    {
     "name": "stdout",
     "output_type": "stream",
     "text": [
      "Столбец school полностью заполнен.\n",
      "Столбец sex полностью заполнен.\n",
      "Столбец age полностью заполнен.\n",
      "Столбец address содержит 14 незаполненных значений с типом nan.\n",
      "Столбец famsize содержит 22 незаполненных значений с типом nan.\n",
      "Столбец Pstatus содержит 38 незаполненных значений с типом nan.\n",
      "Столбец Medu содержит 3 незаполненных значений с типом nan.\n",
      "Столбец Fedu содержит 23 незаполненных значений с типом nan.\n",
      "Столбец Mjob содержит 16 незаполненных значений с типом nan.\n",
      "Столбец Fjob содержит 34 незаполненных значений с типом nan.\n",
      "Столбец reason содержит 17 незаполненных значений с типом nan.\n",
      "Столбец guardian содержит 30 незаполненных значений с типом nan.\n",
      "Столбец traveltime содержит 28 незаполненных значений с типом nan.\n",
      "Столбец studytime содержит 5 незаполненных значений с типом nan.\n",
      "Столбец failures содержит 19 незаполненных значений с типом nan.\n",
      "Столбец schoolsup содержит 9 незаполненных значений с типом nan.\n",
      "Столбец famsup содержит 34 незаполненных значений с типом nan.\n",
      "Столбец paid содержит 37 незаполненных значений с типом nan.\n",
      "Столбец activities содержит 14 незаполненных значений с типом nan.\n",
      "Столбец nursery содержит 15 незаполненных значений с типом nan.\n",
      "Столбец higher содержит 18 незаполненных значений с типом nan.\n",
      "Столбец internet содержит 32 незаполненных значений с типом nan.\n",
      "Столбец romantic содержит 30 незаполненных значений с типом nan.\n",
      "Столбец famrel содержит 26 незаполненных значений с типом nan.\n",
      "Столбец freetime содержит 7 незаполненных значений с типом nan.\n",
      "Столбец goout содержит 7 незаполненных значений с типом nan.\n",
      "Столбец health содержит 15 незаполненных значений с типом nan.\n",
      "Столбец absences полностью заполнен.\n",
      "Столбец score полностью заполнен.\n"
     ]
    }
   ],
   "source": [
    "for i in stud_math.columns:\n",
    "    nan_cell_print(i)"
   ]
  },
  {
   "cell_type": "markdown",
   "metadata": {},
   "source": [
    "В данных много пустых значений, изначально было заполнено 3 колонки (school, sex, age). После обработки полностью заполненными стали 5 колонок (school, sex, age, absences, score).   "
   ]
  },
  {
   "cell_type": "markdown",
   "metadata": {},
   "source": [
    "Были найдены выбросы в следующих 3 колонках  Fedu, famrel, absences. Замечу, что колонки  Fedu, famrel - номинативные числовые колонки, соотвественно с ними проводить математические операции бессмысленно, ибо они не обозначают количество, а делят на группы. И в обоих колонках были опечатки. В Fedu вместо 4 было указано 40, в famrel были значения 0 и -1, которые мы отнесли к группе очень плохо, т.е. заменили на 1. Колонка absences является количественной, поэтому выбросы посчитали арифметически, исходя из значений в колонке, и отфильтровали их. "
   ]
  },
  {
   "cell_type": "markdown",
   "metadata": {},
   "source": [
    "Выводы из корреляицонного анализа написанны выше. Замечу в анализе не было столбца \"studytime,granular\", т.к. я исключил его на этапе обработки. Т.к. он полностью коррелирует со \"studytime \" за исключением направленности. "
   ]
  },
  {
   "cell_type": "markdown",
   "metadata": {},
   "source": [
    "В модель передаем следующие колонки. С комментарием присмотреться к Fedu по причине корреляции с Medu. А так же к failures  см. п.2.7 (я бы его вообще исключил). "
   ]
  },
  {
   "cell_type": "code",
   "execution_count": 856,
   "metadata": {},
   "outputs": [
    {
     "data": {
      "text/html": [
       "<div>\n",
       "<style scoped>\n",
       "    .dataframe tbody tr th:only-of-type {\n",
       "        vertical-align: middle;\n",
       "    }\n",
       "\n",
       "    .dataframe tbody tr th {\n",
       "        vertical-align: top;\n",
       "    }\n",
       "\n",
       "    .dataframe thead th {\n",
       "        text-align: right;\n",
       "    }\n",
       "</style>\n",
       "<table border=\"1\" class=\"dataframe\">\n",
       "  <thead>\n",
       "    <tr style=\"text-align: right;\">\n",
       "      <th></th>\n",
       "      <th>school</th>\n",
       "      <th>sex</th>\n",
       "      <th>address</th>\n",
       "      <th>Mjob</th>\n",
       "      <th>Fjob</th>\n",
       "      <th>schoolsup</th>\n",
       "      <th>paid</th>\n",
       "      <th>higher</th>\n",
       "      <th>internet</th>\n",
       "      <th>romantic</th>\n",
       "      <th>age</th>\n",
       "      <th>Medu</th>\n",
       "      <th>Fedu</th>\n",
       "      <th>traveltime</th>\n",
       "      <th>studytime</th>\n",
       "      <th>failures</th>\n",
       "      <th>famrel</th>\n",
       "      <th>freetime</th>\n",
       "      <th>goout</th>\n",
       "      <th>health</th>\n",
       "      <th>absences</th>\n",
       "      <th>score</th>\n",
       "    </tr>\n",
       "  </thead>\n",
       "  <tbody>\n",
       "    <tr>\n",
       "      <th>0</th>\n",
       "      <td>GP</td>\n",
       "      <td>F</td>\n",
       "      <td>U</td>\n",
       "      <td>at_home</td>\n",
       "      <td>teacher</td>\n",
       "      <td>yes</td>\n",
       "      <td>no</td>\n",
       "      <td>yes</td>\n",
       "      <td>NaN</td>\n",
       "      <td>no</td>\n",
       "      <td>18</td>\n",
       "      <td>4.0</td>\n",
       "      <td>4.0</td>\n",
       "      <td>2.0</td>\n",
       "      <td>2.0</td>\n",
       "      <td>0.0</td>\n",
       "      <td>4.0</td>\n",
       "      <td>3.0</td>\n",
       "      <td>4.0</td>\n",
       "      <td>3.0</td>\n",
       "      <td>6.0</td>\n",
       "      <td>30.0</td>\n",
       "    </tr>\n",
       "    <tr>\n",
       "      <th>1</th>\n",
       "      <td>GP</td>\n",
       "      <td>F</td>\n",
       "      <td>U</td>\n",
       "      <td>at_home</td>\n",
       "      <td>other</td>\n",
       "      <td>no</td>\n",
       "      <td>no</td>\n",
       "      <td>yes</td>\n",
       "      <td>yes</td>\n",
       "      <td>no</td>\n",
       "      <td>17</td>\n",
       "      <td>1.0</td>\n",
       "      <td>1.0</td>\n",
       "      <td>1.0</td>\n",
       "      <td>2.0</td>\n",
       "      <td>0.0</td>\n",
       "      <td>5.0</td>\n",
       "      <td>3.0</td>\n",
       "      <td>3.0</td>\n",
       "      <td>3.0</td>\n",
       "      <td>4.0</td>\n",
       "      <td>30.0</td>\n",
       "    </tr>\n",
       "    <tr>\n",
       "      <th>2</th>\n",
       "      <td>GP</td>\n",
       "      <td>F</td>\n",
       "      <td>U</td>\n",
       "      <td>at_home</td>\n",
       "      <td>other</td>\n",
       "      <td>yes</td>\n",
       "      <td>NaN</td>\n",
       "      <td>yes</td>\n",
       "      <td>yes</td>\n",
       "      <td>NaN</td>\n",
       "      <td>15</td>\n",
       "      <td>1.0</td>\n",
       "      <td>1.0</td>\n",
       "      <td>1.0</td>\n",
       "      <td>2.0</td>\n",
       "      <td>3.0</td>\n",
       "      <td>4.0</td>\n",
       "      <td>3.0</td>\n",
       "      <td>2.0</td>\n",
       "      <td>3.0</td>\n",
       "      <td>10.0</td>\n",
       "      <td>50.0</td>\n",
       "    </tr>\n",
       "    <tr>\n",
       "      <th>3</th>\n",
       "      <td>GP</td>\n",
       "      <td>F</td>\n",
       "      <td>U</td>\n",
       "      <td>health</td>\n",
       "      <td>NaN</td>\n",
       "      <td>no</td>\n",
       "      <td>yes</td>\n",
       "      <td>yes</td>\n",
       "      <td>yes</td>\n",
       "      <td>yes</td>\n",
       "      <td>15</td>\n",
       "      <td>4.0</td>\n",
       "      <td>2.0</td>\n",
       "      <td>1.0</td>\n",
       "      <td>3.0</td>\n",
       "      <td>0.0</td>\n",
       "      <td>3.0</td>\n",
       "      <td>2.0</td>\n",
       "      <td>2.0</td>\n",
       "      <td>5.0</td>\n",
       "      <td>2.0</td>\n",
       "      <td>75.0</td>\n",
       "    </tr>\n",
       "    <tr>\n",
       "      <th>4</th>\n",
       "      <td>GP</td>\n",
       "      <td>F</td>\n",
       "      <td>U</td>\n",
       "      <td>other</td>\n",
       "      <td>other</td>\n",
       "      <td>no</td>\n",
       "      <td>yes</td>\n",
       "      <td>yes</td>\n",
       "      <td>no</td>\n",
       "      <td>no</td>\n",
       "      <td>16</td>\n",
       "      <td>3.0</td>\n",
       "      <td>3.0</td>\n",
       "      <td>1.0</td>\n",
       "      <td>2.0</td>\n",
       "      <td>0.0</td>\n",
       "      <td>4.0</td>\n",
       "      <td>3.0</td>\n",
       "      <td>2.0</td>\n",
       "      <td>5.0</td>\n",
       "      <td>4.0</td>\n",
       "      <td>50.0</td>\n",
       "    </tr>\n",
       "    <tr>\n",
       "      <th>...</th>\n",
       "      <td>...</td>\n",
       "      <td>...</td>\n",
       "      <td>...</td>\n",
       "      <td>...</td>\n",
       "      <td>...</td>\n",
       "      <td>...</td>\n",
       "      <td>...</td>\n",
       "      <td>...</td>\n",
       "      <td>...</td>\n",
       "      <td>...</td>\n",
       "      <td>...</td>\n",
       "      <td>...</td>\n",
       "      <td>...</td>\n",
       "      <td>...</td>\n",
       "      <td>...</td>\n",
       "      <td>...</td>\n",
       "      <td>...</td>\n",
       "      <td>...</td>\n",
       "      <td>...</td>\n",
       "      <td>...</td>\n",
       "      <td>...</td>\n",
       "      <td>...</td>\n",
       "    </tr>\n",
       "    <tr>\n",
       "      <th>383</th>\n",
       "      <td>MS</td>\n",
       "      <td>F</td>\n",
       "      <td>U</td>\n",
       "      <td>other</td>\n",
       "      <td>other</td>\n",
       "      <td>no</td>\n",
       "      <td>no</td>\n",
       "      <td>yes</td>\n",
       "      <td>NaN</td>\n",
       "      <td>no</td>\n",
       "      <td>18</td>\n",
       "      <td>1.0</td>\n",
       "      <td>1.0</td>\n",
       "      <td>NaN</td>\n",
       "      <td>2.0</td>\n",
       "      <td>1.0</td>\n",
       "      <td>1.0</td>\n",
       "      <td>1.0</td>\n",
       "      <td>1.0</td>\n",
       "      <td>5.0</td>\n",
       "      <td>0.0</td>\n",
       "      <td>0.0</td>\n",
       "    </tr>\n",
       "    <tr>\n",
       "      <th>385</th>\n",
       "      <td>MS</td>\n",
       "      <td>M</td>\n",
       "      <td>U</td>\n",
       "      <td>services</td>\n",
       "      <td>services</td>\n",
       "      <td>no</td>\n",
       "      <td>no</td>\n",
       "      <td>yes</td>\n",
       "      <td>yes</td>\n",
       "      <td>no</td>\n",
       "      <td>17</td>\n",
       "      <td>3.0</td>\n",
       "      <td>1.0</td>\n",
       "      <td>2.0</td>\n",
       "      <td>1.0</td>\n",
       "      <td>0.0</td>\n",
       "      <td>2.0</td>\n",
       "      <td>4.0</td>\n",
       "      <td>5.0</td>\n",
       "      <td>2.0</td>\n",
       "      <td>3.0</td>\n",
       "      <td>80.0</td>\n",
       "    </tr>\n",
       "    <tr>\n",
       "      <th>386</th>\n",
       "      <td>MS</td>\n",
       "      <td>M</td>\n",
       "      <td>R</td>\n",
       "      <td>other</td>\n",
       "      <td>other</td>\n",
       "      <td>NaN</td>\n",
       "      <td>no</td>\n",
       "      <td>NaN</td>\n",
       "      <td>no</td>\n",
       "      <td>no</td>\n",
       "      <td>21</td>\n",
       "      <td>1.0</td>\n",
       "      <td>1.0</td>\n",
       "      <td>1.0</td>\n",
       "      <td>1.0</td>\n",
       "      <td>3.0</td>\n",
       "      <td>5.0</td>\n",
       "      <td>5.0</td>\n",
       "      <td>3.0</td>\n",
       "      <td>3.0</td>\n",
       "      <td>3.0</td>\n",
       "      <td>35.0</td>\n",
       "    </tr>\n",
       "    <tr>\n",
       "      <th>387</th>\n",
       "      <td>MS</td>\n",
       "      <td>M</td>\n",
       "      <td>R</td>\n",
       "      <td>services</td>\n",
       "      <td>other</td>\n",
       "      <td>no</td>\n",
       "      <td>no</td>\n",
       "      <td>yes</td>\n",
       "      <td>yes</td>\n",
       "      <td>no</td>\n",
       "      <td>18</td>\n",
       "      <td>3.0</td>\n",
       "      <td>2.0</td>\n",
       "      <td>3.0</td>\n",
       "      <td>1.0</td>\n",
       "      <td>0.0</td>\n",
       "      <td>4.0</td>\n",
       "      <td>4.0</td>\n",
       "      <td>1.0</td>\n",
       "      <td>5.0</td>\n",
       "      <td>0.0</td>\n",
       "      <td>50.0</td>\n",
       "    </tr>\n",
       "    <tr>\n",
       "      <th>388</th>\n",
       "      <td>MS</td>\n",
       "      <td>M</td>\n",
       "      <td>U</td>\n",
       "      <td>other</td>\n",
       "      <td>at_home</td>\n",
       "      <td>NaN</td>\n",
       "      <td>no</td>\n",
       "      <td>yes</td>\n",
       "      <td>yes</td>\n",
       "      <td>no</td>\n",
       "      <td>19</td>\n",
       "      <td>1.0</td>\n",
       "      <td>1.0</td>\n",
       "      <td>1.0</td>\n",
       "      <td>1.0</td>\n",
       "      <td>0.0</td>\n",
       "      <td>3.0</td>\n",
       "      <td>2.0</td>\n",
       "      <td>3.0</td>\n",
       "      <td>5.0</td>\n",
       "      <td>5.0</td>\n",
       "      <td>45.0</td>\n",
       "    </tr>\n",
       "  </tbody>\n",
       "</table>\n",
       "<p>361 rows × 22 columns</p>\n",
       "</div>"
      ],
      "text/plain": [
       "    school sex address      Mjob      Fjob schoolsup paid higher internet  \\\n",
       "0       GP   F       U   at_home   teacher       yes   no    yes      NaN   \n",
       "1       GP   F       U   at_home     other        no   no    yes      yes   \n",
       "2       GP   F       U   at_home     other       yes  NaN    yes      yes   \n",
       "3       GP   F       U    health       NaN        no  yes    yes      yes   \n",
       "4       GP   F       U     other     other        no  yes    yes       no   \n",
       "..     ...  ..     ...       ...       ...       ...  ...    ...      ...   \n",
       "383     MS   F       U     other     other        no   no    yes      NaN   \n",
       "385     MS   M       U  services  services        no   no    yes      yes   \n",
       "386     MS   M       R     other     other       NaN   no    NaN       no   \n",
       "387     MS   M       R  services     other        no   no    yes      yes   \n",
       "388     MS   M       U     other   at_home       NaN   no    yes      yes   \n",
       "\n",
       "    romantic  age  Medu  Fedu  traveltime  studytime  failures  famrel  \\\n",
       "0         no   18   4.0   4.0         2.0        2.0       0.0     4.0   \n",
       "1         no   17   1.0   1.0         1.0        2.0       0.0     5.0   \n",
       "2        NaN   15   1.0   1.0         1.0        2.0       3.0     4.0   \n",
       "3        yes   15   4.0   2.0         1.0        3.0       0.0     3.0   \n",
       "4         no   16   3.0   3.0         1.0        2.0       0.0     4.0   \n",
       "..       ...  ...   ...   ...         ...        ...       ...     ...   \n",
       "383       no   18   1.0   1.0         NaN        2.0       1.0     1.0   \n",
       "385       no   17   3.0   1.0         2.0        1.0       0.0     2.0   \n",
       "386       no   21   1.0   1.0         1.0        1.0       3.0     5.0   \n",
       "387       no   18   3.0   2.0         3.0        1.0       0.0     4.0   \n",
       "388       no   19   1.0   1.0         1.0        1.0       0.0     3.0   \n",
       "\n",
       "     freetime  goout  health  absences  score  \n",
       "0         3.0    4.0     3.0       6.0   30.0  \n",
       "1         3.0    3.0     3.0       4.0   30.0  \n",
       "2         3.0    2.0     3.0      10.0   50.0  \n",
       "3         2.0    2.0     5.0       2.0   75.0  \n",
       "4         3.0    2.0     5.0       4.0   50.0  \n",
       "..        ...    ...     ...       ...    ...  \n",
       "383       1.0    1.0     5.0       0.0    0.0  \n",
       "385       4.0    5.0     2.0       3.0   80.0  \n",
       "386       5.0    3.0     3.0       3.0   35.0  \n",
       "387       4.0    1.0     5.0       0.0   50.0  \n",
       "388       2.0    3.0     5.0       5.0   45.0  \n",
       "\n",
       "[361 rows x 22 columns]"
      ]
     },
     "execution_count": 856,
     "metadata": {},
     "output_type": "execute_result"
    }
   ],
   "source": [
    "stud_math_model = stud_math.loc[:, ['school', 'sex', 'address', 'Mjob', 'Fjob',\n",
    "                                    'schoolsup', 'paid', 'higher', 'internet', 'romantic', 'age',\n",
    "                                    'Medu', 'Fedu', 'traveltime', 'studytime', 'failures', 'famrel', 'freetime', 'goout',\n",
    "                                    'health', 'absences', 'score']]\n",
    "stud_math_model"
   ]
  }
 ],
 "metadata": {
  "kernelspec": {
   "display_name": "Python 3",
   "language": "python",
   "name": "python3"
  },
  "language_info": {
   "codemirror_mode": {
    "name": "ipython",
    "version": 3
   },
   "file_extension": ".py",
   "mimetype": "text/x-python",
   "name": "python",
   "nbconvert_exporter": "python",
   "pygments_lexer": "ipython3",
   "version": "3.8.3"
  }
 },
 "nbformat": 4,
 "nbformat_minor": 4
}
